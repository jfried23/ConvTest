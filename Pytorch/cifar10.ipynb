{
 "cells": [
  {
   "cell_type": "code",
   "execution_count": 1,
   "metadata": {},
   "outputs": [],
   "source": [
    "import torch\n",
    "import torchvision\n",
    "import torchvision.transforms\n",
    "import matplotlib.pyplot as plt\n",
    "import numpy as np\n",
    "\n",
    "%matplotlib inline"
   ]
  },
  {
   "cell_type": "code",
   "execution_count": 2,
   "metadata": {},
   "outputs": [],
   "source": [
    "transform = torchvision.transforms.Compose(\n",
    "    [torchvision.transforms.ToTensor(),\n",
    "     torchvision.transforms.Normalize((0.5, 0.5, 0.5), (0.5, 0.5, 0.5))])"
   ]
  },
  {
   "cell_type": "code",
   "execution_count": 3,
   "metadata": {},
   "outputs": [
    {
     "name": "stdout",
     "output_type": "stream",
     "text": [
      "Downloading https://www.cs.toronto.edu/~kriz/cifar-10-python.tar.gz to ./data/cifar-10-python.tar.gz\n",
      "Files already downloaded and verified\n"
     ]
    }
   ],
   "source": [
    "trainset = torchvision.datasets.CIFAR10(root='./data', train=True,\n",
    "                                        download=True, transform=transform)\n",
    "trainloader = torch.utils.data.DataLoader(trainset, batch_size=4,\n",
    "                                          shuffle=True, num_workers=2)\n",
    "\n",
    "testset = torchvision.datasets.CIFAR10(root='./data', train=False,\n",
    "                                       download=True, transform=transform)\n",
    "testloader = torch.utils.data.DataLoader(testset, batch_size=4,\n",
    "                                         shuffle=False, num_workers=2)\n",
    "\n",
    "classes = ('plane', 'car', 'bird', 'cat',\n",
    "           'deer', 'dog', 'frog', 'horse', 'ship', 'truck')"
   ]
  },
  {
   "cell_type": "code",
   "execution_count": 11,
   "metadata": {},
   "outputs": [
    {
     "name": "stdout",
     "output_type": "stream",
     "text": [
      " ship   cat truck   car\n"
     ]
    },
    {
     "data": {
      "image/png": "[encoded data removed]",
      "text/plain": [
       "<Figure size 432x288 with 1 Axes>"
      ]
     },
     "metadata": {},
     "output_type": "display_data"
    }
   ],
   "source": [
    "def imshow(img):\n",
    "    img = img / 2 + 0.5     # unnormalize\n",
    "    npimg = img.numpy()\n",
    "    plt.imshow(np.transpose(npimg, (1, 2, 0)))\n",
    "\n",
    "\n",
    "# get some random training images\n",
    "dataiter = iter(trainloader)\n",
    "images, labels = dataiter.next()\n",
    "\n",
    "# show images\n",
    "imshow(torchvision.utils.make_grid(images))\n",
    "# print labels\n",
    "print(' '.join('%5s' % classes[labels[j]] for j in range(4)))\n"
   ]
  },
  {
   "cell_type": "code",
   "execution_count": 7,
   "metadata": {},
   "outputs": [],
   "source": [
    "class Covnet( torch.nn.Module ):\n",
    "    def __init__(self):\n",
    "        super().__init__()\n",
    "        conv1 = torch.nn.Conv2d(3,  10,  3)\n",
    "        conv2 = torch.nn.Conv2d(10, 20,  3)\n",
    "        conv3 = torch.nn.Conv2d(20, 30, 3)\n",
    "\n",
    "        self.feat= torch.nn.Sequential(\n",
    "            \n",
    "                        conv1,\n",
    "                        torch.nn.ReLU(),\n",
    "                        torch.nn.MaxPool2d(2),\n",
    "                        \n",
    "                        conv2,\n",
    "                        torch.nn.ReLU(),\n",
    "                        torch.nn.MaxPool2d(2),\n",
    "                        \n",
    "                        conv3,\n",
    "                        torch.nn.ReLU(),\n",
    "                        torch.nn.MaxPool2d(2)\n",
    "                       )\n",
    "        \n",
    "        self.linOut1 = torch.nn.Linear(30,10)\n",
    "        \n",
    "    def forward(self, x ):\n",
    "        bs=x.shape[0]\n",
    "        x = self.feat(x).view(bs,30,-1)\n",
    "        x = torch.mean(x,-1)\n",
    "        x = self.linOut1(x)\n",
    "        return x\n",
    "        \n",
    "\n",
    "myNet = Covnet()"
   ]
  },
  {
   "cell_type": "code",
   "execution_count": 8,
   "metadata": {},
   "outputs": [
    {
     "name": "stdout",
     "output_type": "stream",
     "text": [
      "[1,  2000] loss: 0.559\n",
      "[1,  4000] loss: 0.530\n",
      "[1,  6000] loss: 0.510\n",
      "[1,  8000] loss: 0.492\n",
      "[1, 10000] loss: 0.477\n",
      "[1, 12000] loss: 0.464\n",
      "Epoch 1:  0.46131865735888483\n",
      "[2,  2000] loss: 0.385\n",
      "[2,  4000] loss: 0.380\n",
      "[2,  6000] loss: 0.378\n",
      "[2,  8000] loss: 0.374\n",
      "[2, 10000] loss: 0.371\n",
      "[2, 12000] loss: 0.367\n",
      "Epoch 2:  0.36669046215087175\n"
     ]
    }
   ],
   "source": [
    "opt = torch.optim.SGD(myNet.parameters(), lr=0.001, momentum=0.9)\n",
    "criterion = torch.nn.CrossEntropyLoss()\n",
    "\n",
    "\n",
    "for e in range(2):\n",
    "    running_loss = 0.0\n",
    "    counts = 0\n",
    "    for i,(img,y) in enumerate(trainloader):\n",
    "        y_pred = myNet(img)\n",
    "        loss = criterion(y_pred, y)\n",
    "        loss.backward()\n",
    "        opt.step()\n",
    "        myNet.zero_grad()\n",
    "        \n",
    "        running_loss += loss.data.numpy()\n",
    "        counts += img.shape[0]\n",
    "        \n",
    "        if i % 2000 == 1999:    # print every 2000 mini-batches\n",
    "            print('[%d, %5d] loss: %.3f' %(e + 1, i + 1, running_loss / counts))\n",
    "            \n",
    "    print(\"Epoch {}: \".format(e+1),running_loss/counts)"
   ]
  },
  {
   "cell_type": "code",
   "execution_count": 9,
   "metadata": {},
   "outputs": [],
   "source": [
    "myNet = myNet.eval()\n",
    "\n",
    "preds=[]\n",
    "true =[]\n",
    "\n",
    "for i,(img,y) in enumerate(testloader):\n",
    "    y_pred = myNet(img)\n",
    "    pred = torch.argmax(torch.nn.functional.softmax(y_pred, dim=-1),-1)\n",
    "    preds.append(pred)\n",
    "    true.append(y)\n",
    "    \n",
    "true, preds = torch.cat(true), torch.cat(preds)"
   ]
  },
  {
   "cell_type": "code",
   "execution_count": 12,
   "metadata": {},
   "outputs": [
    {
     "name": "stdout",
     "output_type": "stream",
     "text": [
      "  cat   dog   car horse\n",
      "  cat   dog   dog horse\n"
     ]
    },
    {
     "data": {
      "image/png": "[encoded data removed]",
      "text/plain": [
       "<Figure size 432x288 with 1 Axes>"
      ]
     },
     "metadata": {},
     "output_type": "display_data"
    }
   ],
   "source": [
    "# show images\n",
    "imshow(torchvision.utils.make_grid(img))\n",
    "# print labels\n",
    "print(' '.join('%5s' % classes[y[j]] for j in range(4)))\n",
    "print(' '.join('%5s' % classes[pred[j]] for j in range(4)))"
   ]
  },
  {
   "cell_type": "code",
   "execution_count": 16,
   "metadata": {},
   "outputs": [
    {
     "name": "stdout",
     "output_type": "stream",
     "text": [
      "accuracy_score\n",
      "plane: 0.555\n",
      "car: 0.627\n",
      "bird: 0.269\n",
      "cat: 0.389\n",
      "deer: 0.151\n",
      "dog: 0.483\n",
      "frog: 0.874\n",
      "horse: 0.436\n",
      "ship: 0.56\n",
      "truck: 0.609\n"
     ]
    }
   ],
   "source": [
    "import sklearn.metrics\n",
    "\n",
    "for i in range(10):\n",
    "    msk = true==i\n",
    "    s = sklearn.metrics.accuracy_score(true[msk],preds[msk])\n",
    "    if i == 0: print('accuracy_score')\n",
    "    print('{}: {}'.format(classes[i],s) )"
   ]
  },
  {
   "cell_type": "code",
   "execution_count": null,
   "metadata": {},
   "outputs": [],
   "source": []
  },
  {
   "cell_type": "code",
   "execution_count": null,
   "metadata": {},
   "outputs": [],
   "source": []
  },
  {
   "cell_type": "code",
   "execution_count": null,
   "metadata": {},
   "outputs": [],
   "source": []
  },
  {
   "cell_type": "code",
   "execution_count": null,
   "metadata": {},
   "outputs": [],
   "source": []
  }
 ],
 "metadata": {
  "kernelspec": {
   "display_name": "Python 3",
   "language": "python",
   "name": "python3"
  },
  "language_info": {
   "codemirror_mode": {
    "name": "ipython",
    "version": 3
   },
   "file_extension": ".py",
   "mimetype": "text/x-python",
   "name": "python",
   "nbconvert_exporter": "python",
   "pygments_lexer": "ipython3",
   "version": "3.6.5"
  }
 },
 "nbformat": 4,
 "nbformat_minor": 2
}
